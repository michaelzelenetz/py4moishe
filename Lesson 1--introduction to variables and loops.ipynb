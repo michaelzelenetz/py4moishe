{
 "cells": [
  {
   "cell_type": "markdown",
   "metadata": {},
   "source": [
    "# Lesson 1\n",
    "\n",
    "Hey! Let's get started. We are going to learn python. Python is a really popular programming language. \n",
    "We're going to start simple and the lessons will get gradually more interesting as we go!\n",
    "\n",
    "\n",
    "## PART I: Variables\n",
    "A variable is a placeholder. You can store any value in a variable."
   ]
  },
  {
   "cell_type": "code",
   "execution_count": 1,
   "metadata": {},
   "outputs": [],
   "source": [
    "# <- This symbol means the line is a comment and the program ignores this line\n",
    "\n",
    "# Here we'll create a variable called \"message\" we'll store the word \"hello!\" in message\n",
    "message = \"hello!\""
   ]
  },
  {
   "cell_type": "markdown",
   "metadata": {},
   "source": [
    "If we want to see what's stored inside \"message\" we can print it out:"
   ]
  },
  {
   "cell_type": "code",
   "execution_count": 2,
   "metadata": {},
   "outputs": [
    {
     "name": "stdout",
     "output_type": "stream",
     "text": [
      "hello!\n"
     ]
    }
   ],
   "source": [
    "print(message)"
   ]
  },
  {
   "cell_type": "markdown",
   "metadata": {},
   "source": [
    "### Your Turn:\n",
    "change the value of message and print out the new message:"
   ]
  },
  {
   "cell_type": "code",
   "execution_count": 3,
   "metadata": {},
   "outputs": [
    {
     "ename": "SyntaxError",
     "evalue": "invalid syntax (<ipython-input-3-f3145abc7c0b>, line 1)",
     "output_type": "error",
     "traceback": [
      "\u001b[0;36m  File \u001b[0;32m\"<ipython-input-3-f3145abc7c0b>\"\u001b[0;36m, line \u001b[0;32m1\u001b[0m\n\u001b[0;31m    message = [INSERT HERE]\u001b[0m\n\u001b[0m                         ^\u001b[0m\n\u001b[0;31mSyntaxError\u001b[0m\u001b[0;31m:\u001b[0m invalid syntax\n"
     ]
    }
   ],
   "source": [
    "message = [INSERT HERE]\n",
    "print (message)"
   ]
  },
  {
   "cell_type": "markdown",
   "metadata": {},
   "source": [
    "## Part II\n",
    "\n",
    "Loops: let's say we want to count to 10, we can write out 0, 1, 2, 3, 4... or we can write a loop to count for us.\n",
    "\n",
    "At the start of a loop we tell the program when we should stop the loop, then we indent the body of the loop."
   ]
  },
  {
   "cell_type": "code",
   "execution_count": 5,
   "metadata": {},
   "outputs": [
    {
     "name": "stdout",
     "output_type": "stream",
     "text": [
      "0\n",
      "1\n",
      "2\n",
      "3\n",
      "4\n",
      "5\n",
      "6\n",
      "7\n",
      "8\n",
      "9\n"
     ]
    }
   ],
   "source": [
    "# count to ten\n",
    "\n",
    "# range(number)\n",
    "for number in range(10):\n",
    "    print(number)"
   ]
  },
  {
   "cell_type": "markdown",
   "metadata": {},
   "source": [
    "### Your Turn:\n",
    "\n",
    "1. Set a variable called \"number_to_count_to\" to 100\n",
    "2. Create a loop and print the numbers from 0 to \"number_to_count_to\" <br>\n",
    "1 <br>\n",
    "2 <br>\n",
    "3 <br>\n",
    "... <br>\n",
    "100"
   ]
  },
  {
   "cell_type": "code",
   "execution_count": null,
   "metadata": {},
   "outputs": [],
   "source": [
    "number_to_count_to = 100\n",
    "\n"
   ]
  },
  {
   "cell_type": "markdown",
   "metadata": {},
   "source": [
    "## Part III\n",
    "\n",
    "if statements: if this is true then do that\n"
   ]
  },
  {
   "cell_type": "code",
   "execution_count": 8,
   "metadata": {},
   "outputs": [
    {
     "name": "stdout",
     "output_type": "stream",
     "text": [
      "Less than 10\n"
     ]
    }
   ],
   "source": [
    "# let's write an if to test if the number is greater than 10, less than 10, or equal to 10\n",
    "number = 5\n",
    "\n",
    "# if ______ :\n",
    "if number > 10:\n",
    "    print(\"Greater than 10\")\n",
    "elif number < 10:\n",
    "    #elif means \"else if\"\n",
    "    print(\"Less than 10\")\n",
    "elif number == 10:\n",
    "    # == checks if they are equal\n",
    "    print(\"Equal to 10\")"
   ]
  },
  {
   "cell_type": "markdown",
   "metadata": {},
   "source": [
    "## Part IV\n",
    "\n",
    "Math: computers are really good a doing math.<br>\n",
    "    +  addition <br>\n",
    "    -  subtraction<br>\n",
    "    *  multiplication<br>\n",
    "    /  division<br>\n",
    "    \n",
    "One more useful math thing: % <br>\n",
    "The % in programming is called \"modulo\" it tells you the remainder.<br><br>\n",
    "\n",
    "For example: 10 % 3 = 1 <br>\n",
    "Because 10/3 = 3 remainder 1."
   ]
  },
  {
   "cell_type": "code",
   "execution_count": 14,
   "metadata": {},
   "outputs": [
    {
     "name": "stdout",
     "output_type": "stream",
     "text": [
      "5\n",
      "4\n",
      "15\n",
      "6\n",
      "2.0\n",
      "0\n",
      "1\n"
     ]
    }
   ],
   "source": [
    "# 1 + 4 = 5\n",
    "print(1+4) \n",
    "\n",
    "# 5 - 1 = 4\n",
    "print(5-1)\n",
    "\n",
    "#adding with variables \n",
    "firstNumber = 10\n",
    "secondNumber = 5\n",
    "print(firstNumber + secondNumber)\n",
    "\n",
    "# 2 * 3 = 6\n",
    "print(2*3)\n",
    "\n",
    "# 6 / 3 = 2\n",
    "print(6/3)\n",
    "\n",
    "# 6 % 3 = 0 (there is no remainder, 6 can divide by 3)\n",
    "print(6 % 3)\n",
    "\n",
    "# 5 % 2 = 1 (because 5/2 = 2 remainder 1)\n",
    "print(5 % 2)"
   ]
  },
  {
   "cell_type": "markdown",
   "metadata": {},
   "source": [
    "Modulo is useful becuase we can see if a number is divisible by another number. Let's write a program to see if one number can divide evenly into another number."
   ]
  },
  {
   "cell_type": "code",
   "execution_count": 17,
   "metadata": {},
   "outputs": [
    {
     "name": "stdout",
     "output_type": "stream",
     "text": [
      "Divides\n"
     ]
    }
   ],
   "source": [
    "firstNumber = 20\n",
    "secondNumber = 5\n",
    "\n",
    "if firstNumber % secondNumber == 0:\n",
    "    print(\"Divides\")\n",
    "else:\n",
    "    print(\"Doesn't Divide Evenly\")"
   ]
  },
  {
   "cell_type": "markdown",
   "metadata": {},
   "source": [
    "Play with the code above and see how it works."
   ]
  },
  {
   "cell_type": "markdown",
   "metadata": {},
   "source": [
    "### Your Turn\n",
    "#### FizzBuzz\n",
    "\n",
    "This is a popular interview question for computer progamming jobs. It's called FizzBuzz. <br><br>\n",
    "Write a program that prints every number from 0 to 100<br>\n",
    "If the number can divide evenly by 3 print Fizz <br>\n",
    "If the number can divide evenly by 5 print Buzz <br>\n",
    "If the number can divide evenly by 15 print FizzBuzz<br>\n",
    "\n",
    "<br><br>\n",
    "Here is what the correct answer prints:<br><br>\n",
    "0<br>\n",
    "1<br>\n",
    "2<br>\n",
    "Fizz<br>\n",
    "4<br>\n",
    "Buzz<br>\n",
    "Fizz<br>\n",
    "7<br>\n",
    "8<br>\n",
    "Fizz<br> \n",
    "..."
   ]
  },
  {
   "cell_type": "code",
   "execution_count": null,
   "metadata": {},
   "outputs": [],
   "source": []
  }
 ],
 "metadata": {
  "kernelspec": {
   "display_name": "Python 3",
   "language": "python",
   "name": "python3"
  },
  "language_info": {
   "codemirror_mode": {
    "name": "ipython",
    "version": 3
   },
   "file_extension": ".py",
   "mimetype": "text/x-python",
   "name": "python",
   "nbconvert_exporter": "python",
   "pygments_lexer": "ipython3",
   "version": "3.6.5"
  }
 },
 "nbformat": 4,
 "nbformat_minor": 2
}
