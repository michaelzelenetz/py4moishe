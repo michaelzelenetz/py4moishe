{
  "nbformat": 4,
  "nbformat_minor": 0,
  "metadata": {
    "colab": {
      "name": "duckietown_rl_training_demo.ipynb",
      "version": "0.3.2",
      "provenance": [],
      "private_outputs": true,
      "collapsed_sections": [],
      "include_colab_link": true
    },
    "kernelspec": {
      "name": "python3",
      "display_name": "Python 3"
    },
    "accelerator": "GPU"
  },
  "cells": [
    {
      "cell_type": "markdown",
      "metadata": {
        "id": "view-in-github",
        "colab_type": "text"
      },
      "source": [
        "<a href=\"https://colab.research.google.com/github/michaelzelenetz/py4moishe/blob/master/duckietown_rl_training_demo.ipynb\" target=\"_parent\"><img src=\"https://colab.research.google.com/assets/colab-badge.svg\" alt=\"Open In Colab\"/></a>"
      ]
    },
    {
      "cell_type": "markdown",
      "metadata": {
        "id": "412qMB1_7zNn",
        "colab_type": "text"
      },
      "source": [
        "We need to pull down the git repos."
      ]
    },
    {
      "cell_type": "code",
      "metadata": {
        "id": "mh17KTs06RSX",
        "colab_type": "code",
        "colab": {}
      },
      "source": [
        "!git clone -l -s git://github.com/duckietown/challenge-aido_LF-baseline-RL-sim-pytorch.git duckiebot_pytorch_rl > /dev/null 2>&1\n",
        "%cd duckiebot_pytorch_rl\n",
        "!ls"
      ],
      "execution_count": 0,
      "outputs": []
    },
    {
      "cell_type": "markdown",
      "metadata": {
        "id": "7bXYfc328eZd",
        "colab_type": "text"
      },
      "source": [
        "and now we install all the python modules that we need"
      ]
    },
    {
      "cell_type": "code",
      "metadata": {
        "id": "yBZRJ6OH8Zmp",
        "colab_type": "code",
        "colab": {}
      },
      "source": [
        "!sudo pip3 install -e . > /dev/null 2>&1\n",
        "!sudo pip3 install -e git://github.com/duckietown/gym-duckietown.git@aido2#egg=gym-duckietown > /dev/null 2>&1"
      ],
      "execution_count": 0,
      "outputs": []
    },
    {
      "cell_type": "markdown",
      "metadata": {
        "id": "l3K2i_dw_ZhJ",
        "colab_type": "text"
      },
      "source": [
        "Before we begin the rest of the training we need to set up some sort of a display to use for the gym to use (fake it till google make it :P )"
      ]
    },
    {
      "cell_type": "code",
      "metadata": {
        "id": "KkLAddRa_u-V",
        "colab_type": "code",
        "colab": {}
      },
      "source": [
        "!apt-get install -y python-opengl xvfb > /dev/null 2>&1\n",
        "!sudo pip3 install xvfbwrapper pyvirtualdisplay piglet > /dev/null 2>&1"
      ],
      "execution_count": 0,
      "outputs": []
    },
    {
      "cell_type": "code",
      "metadata": {
        "id": "I_wmLS11FG70",
        "colab_type": "code",
        "colab": {}
      },
      "source": [
        "from pyvirtualdisplay import Display\n",
        "display = Display(visible=0, size=(1400, 900))\n",
        "display.start()"
      ],
      "execution_count": 0,
      "outputs": []
    },
    {
      "cell_type": "code",
      "metadata": {
        "id": "zRnHx_6ZFILv",
        "colab_type": "code",
        "colab": {}
      },
      "source": [
        "import numpy as np\n",
        "import matplotlib.pyplot as plt\n",
        "%matplotlib inline\n",
        "\n",
        "# This code creates a virtual display to draw game images on. \n",
        "# If you are running locally, just ignore it\n",
        "import os\n",
        "if type(os.environ.get(\"DISPLAY\")) is not str or len(os.environ.get(\"DISPLAY\"))==0:\n",
        "    !bash ../xvfb start\n",
        "    %env DISPLAY=:1"
      ],
      "execution_count": 0,
      "outputs": []
    },
    {
      "cell_type": "markdown",
      "metadata": {
        "id": "ii3z6QeE8qwO",
        "colab_type": "text"
      },
      "source": [
        "and now time to get running the training"
      ]
    },
    {
      "cell_type": "code",
      "metadata": {
        "id": "-GBeVwY68ucc",
        "colab_type": "code",
        "colab": {}
      },
      "source": [
        "%cd duckietown_rl\n",
        "!sudo python3 -m scripts.train_cnn.py --seed 123"
      ],
      "execution_count": 0,
      "outputs": []
    },
    {
      "cell_type": "markdown",
      "metadata": {
        "id": "4YeucSil87SB",
        "colab_type": "text"
      },
      "source": [
        "once we're done we need to check out the results"
      ]
    },
    {
      "cell_type": "code",
      "metadata": {
        "id": "yjMU_4Lq9Eqk",
        "colab_type": "code",
        "colab": {}
      },
      "source": [
        "!sudo python3 -m scripts.test_cnn.py --seed 123"
      ],
      "execution_count": 0,
      "outputs": []
    }
  ]
}